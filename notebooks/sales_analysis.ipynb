
{
 "cells": [
  {
   "cell_type": "markdown",
   "metadata": {},
   "source": ["# Sales Data Analysis\nThis notebook contains analysis on sales performance data."]
  },
  {
   "cell_type": "code",
   "execution_count": null,
   "metadata": {},
   "outputs": [],
   "source": [
    "import pandas as pd\n",
    "df = pd.read_csv('../data/sales_data.csv')\n",
    "df.head()"
   ]
  }
 ],
 "metadata": {},
 "nbformat": 4,
 "nbformat_minor": 2
}
